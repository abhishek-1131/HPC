{
 "cells": [
  {
   "cell_type": "code",
   "execution_count": 2,
   "metadata": {
    "ExecuteTime": {
     "end_time": "2020-07-27T06:49:13.890315Z",
     "start_time": "2020-07-27T06:48:59.694644Z"
    }
   },
   "outputs": [],
   "source": [
    "import numpy as np\n",
    "import torch\n",
    "import torchvision\n",
    "from torchvision import datasets, transforms\n",
    "import multiprocessing\n",
    "from joblib import Parallel, delayed\n",
    "from datetime import datetime\n",
    "import tempfile\n",
    "import os\n",
    "from joblib import load, dump\n",
    "import shutil\n",
    "\n",
    "transform = transforms.Compose([transforms.ToTensor(),transforms.Normalize((0.5,), (0.5,)),])\n",
    "trainset = datasets.MNIST('./data', download=True, train=True, transform=transform)\n",
    "testset = datasets.MNIST('./data', download=True, train=False, transform=transform)\n",
    "trainloader = torch.utils.data.DataLoader(trainset, batch_size = len(trainset))\n",
    "testloader = torch.utils.data.DataLoader(testset, batch_size = len(testset))\n",
    "trainset_array1 = next(iter(trainloader))[0].numpy()\n",
    "testset_array1 = next(iter(testloader))[0].numpy()\n",
    "\n",
    "trainset_labels_array1 = next(iter(trainloader))[1].numpy()\n",
    "testset_labels_array1 = next(iter(testloader))[1].numpy()\n",
    "\n",
    "trainset_array = trainset_array1.reshape(60000,784)\n",
    "testset_array = testset_array1.reshape(10000,784)\n"
   ]
  },
  {
   "cell_type": "code",
   "execution_count": 2,
   "metadata": {
    "ExecuteTime": {
     "end_time": "2020-07-22T04:55:19.914335Z",
     "start_time": "2020-07-22T04:55:19.780564Z"
    }
   },
   "outputs": [],
   "source": [
    "temp_folder_test = tempfile.mkdtemp()\n",
    "filename_test = os.path.join(temp_folder_test, 'test.mmap')\n",
    "if os.path.exists(filename_test): os.unlink(filename_test)\n",
    "_ = dump(testset_array, filename_test)\n",
    "test_memmap = load(filename_test, mmap_mode='r+')\n",
    "\n",
    "temp_folder_train = tempfile.mkdtemp()\n",
    "filename_train = os.path.join(temp_folder_train, 'train.mmap')\n",
    "if os.path.exists(filename_train): os.unlink(filename_train)\n",
    "_ = dump(trainset_array, filename_train)\n",
    "train_memmap = load(filename_train, mmap_mode='r+')\n",
    "\n",
    "del testset_array\n",
    "del trainset_array\n",
    "import gc\n",
    "_ = gc.collect()\n",
    "\n",
    "test_memmap_small = test_memmap[:512]\n",
    "train_memmap_small = train_memmap[:512]\n",
    "\n",
    "test_memmap_final = np.asarray(test_memmap_small)\n",
    "train_memmap_final = np.asarray(train_memmap_small)"
   ]
  },
  {
   "cell_type": "code",
   "execution_count": 3,
   "metadata": {
    "ExecuteTime": {
     "end_time": "2020-07-27T06:50:33.634944Z",
     "start_time": "2020-07-27T06:50:33.632433Z"
    }
   },
   "outputs": [],
   "source": [
    "def calc_euclid(x,y):\n",
    "    dist = sum((x-y)**2)\n",
    "    return dist"
   ]
  },
  {
   "cell_type": "code",
   "execution_count": 4,
   "metadata": {
    "ExecuteTime": {
     "end_time": "2020-07-27T06:49:29.332165Z",
     "start_time": "2020-07-27T06:49:29.330005Z"
    }
   },
   "outputs": [],
   "source": [
    "testset_array2 = testset_array[:512]\n",
    "trainset_array2 = trainset_array[:512]"
   ]
  },
  {
   "cell_type": "code",
   "execution_count": 6,
   "metadata": {
    "ExecuteTime": {
     "end_time": "2020-07-27T06:53:25.151515Z",
     "start_time": "2020-07-27T06:52:42.105636Z"
    },
    "tags": []
   },
   "outputs": [
    {
     "name": "stdout",
     "output_type": "stream",
     "text": [
      "task started\n",
      "Time:  0:00:28.244859\n",
      "512\n"
     ]
    }
   ],
   "source": [
    "print('task started')\n",
    "start = datetime.now()\n",
    "final_list = Parallel(n_jobs=8,backend='multiprocessing',batch_size=32768)(delayed(calc_euclid)(x,y) for x in testset_array2 for y in trainset_array2)\n",
    "# final_list1 = np.asarray(final_list)\n",
    "# final_list1 = np.split(final_list1,512)\n",
    "n=512\n",
    "final = [final_list[i:i + n] for i in range(0, len(final_list), n)]  \n",
    "l1 = []\n",
    "i=0\n",
    "for x in final:\n",
    "    y = x.index(min(x))\n",
    "    l1.append(trainset_labels_array1[y])\n",
    "    i+=1\n",
    "end = datetime.now()\n",
    "time_taken = end - start\n",
    "print('Time: ',time_taken)\n",
    "print(len(l1))\n",
    "\n",
    "# try:\n",
    "#     shutil.rmtree(temp_folder_test)\n",
    "#     shutil.rmtree(temp_folder_train)\n",
    "# except OSError:\n",
    "#     pass"
   ]
  },
  {
   "cell_type": "code",
   "execution_count": 7,
   "metadata": {
    "ExecuteTime": {
     "end_time": "2020-07-27T06:53:25.152761Z",
     "start_time": "2020-07-27T06:52:50.433Z"
    }
   },
   "outputs": [
    {
     "data": {
      "text/plain": [
       "array([7, 2, 1, 0, 9, 1, 9, 9, 4, 9, 0, 6, 9, 0, 1, 3, 9, 7, 3, 4, 9, 6,\n",
       "       6, 5, 4, 0, 7, 4, 0, 1, 3, 1, 3, 4, 7, 2, 7, 1, 2, 1, 1, 7, 4, 1,\n",
       "       5, 5, 1, 8, 4, 4, 6, 3, 5, 5, 0, 0, 4, 1, 9, 1, 7, 2, 4, 9, 7, 4,\n",
       "       0, 4, 3, 0, 7, 0, 2, 9, 1, 7, 3, 3, 9, 7, 9, 6, 2, 9, 8, 4, 7, 3,\n",
       "       6, 1, 3, 6, 9, 3, 1, 4, 1, 7, 6, 9, 6, 0, 5, 4, 9, 9, 2, 1, 9, 4,\n",
       "       8, 1, 5, 9, 2, 9, 4, 4, 9, 7, 3, 7, 9, 6, 9, 9, 0, 5, 8, 5, 6, 6,\n",
       "       5, 7, 8, 1, 0, 1, 6, 4, 6, 7, 3, 1, 7, 1, 9, 2, 0, 1, 9, 9, 5, 5,\n",
       "       1, 5, 6, 0, 3, 1, 4, 6, 5, 4, 4, 8, 4, 5, 1, 9, 4, 7, 2, 3, 2, 1,\n",
       "       1, 9, 1, 8, 1, 2, 5, 0, 3, 9, 2, 3, 0, 1, 1, 1, 0, 9, 0, 3, 1, 6,\n",
       "       9, 2, 3, 6, 1, 1, 1, 3, 9, 5, 2, 9, 4, 9, 9, 7, 9, 0, 3, 5, 7, 5,\n",
       "       7, 3, 2, 7, 1, 2, 8, 4, 1, 7, 3, 5, 5, 9, 7, 9, 2, 2, 4, 1, 5, 9,\n",
       "       8, 4, 7, 5, 0, 6, 4, 1, 4, 1, 9, 5, 7, 9, 2, 1, 2, 6, 8, 1, 7, 7,\n",
       "       4, 1, 0, 1, 3, 0, 3, 0, 1, 9, 9, 4, 1, 8, 2, 1, 2, 9, 7, 1, 9, 2,\n",
       "       6, 4, 1, 8, 4, 2, 9, 2, 0, 9, 0, 0, 2, 8, 1, 7, 1, 9, 9, 0, 2, 9,\n",
       "       4, 5, 3, 0, 0, 3, 1, 7, 6, 5, 0, 3, 7, 1, 9, 5, 0, 9, 6, 0, 7, 1,\n",
       "       1, 1, 1, 5, 3, 3, 9, 7, 5, 6, 5, 8, 1, 3, 5, 1, 0, 5, 1, 3, 1, 5,\n",
       "       0, 6, 1, 8, 5, 1, 9, 9, 4, 6, 7, 2, 5, 0, 6, 5, 6, 3, 9, 2, 0, 8,\n",
       "       8, 5, 9, 1, 1, 4, 0, 3, 3, 7, 6, 1, 6, 2, 1, 9, 2, 8, 6, 1, 4, 5,\n",
       "       1, 5, 4, 4, 2, 8, 3, 7, 1, 4, 9, 0, 3, 1, 7, 7, 3, 7, 9, 7, 1, 4,\n",
       "       2, 1, 4, 3, 9, 2, 0, 4, 9, 1, 4, 8, 1, 8, 4, 5, 9, 7, 8, 3, 7, 6,\n",
       "       0, 0, 3, 8, 8, 0, 6, 4, 9, 3, 3, 3, 1, 8, 9, 1, 2, 6, 9, 0, 9, 6,\n",
       "       6, 6, 9, 8, 8, 2, 3, 5, 8, 9, 6, 1, 8, 4, 1, 2, 6, 3, 1, 9, 7, 1,\n",
       "       4, 0, 9, 9, 9, 1, 0, 5, 8, 3, 7, 0, 9, 4, 0, 6, 3, 9, 5, 2, 1, 3,\n",
       "       1, 5, 6, 3, 7, 9])"
      ]
     },
     "execution_count": 7,
     "metadata": {},
     "output_type": "execute_result"
    }
   ],
   "source": [
    "l1 = np.asarray(l1)\n",
    "l1"
   ]
  },
  {
   "cell_type": "code",
   "execution_count": null,
   "metadata": {
    "ExecuteTime": {
     "end_time": "2020-07-13T17:19:14.069908Z",
     "start_time": "2020-07-13T17:19:14.067065Z"
    }
   },
   "outputs": [],
   "source": [
    "final_list1 = np.split(final_list,512)"
   ]
  },
  {
   "cell_type": "code",
   "execution_count": null,
   "metadata": {
    "ExecuteTime": {
     "end_time": "2020-07-13T17:19:16.238533Z",
     "start_time": "2020-07-13T17:19:16.235722Z"
    }
   },
   "outputs": [],
   "source": [
    "len(final_list1)"
   ]
  },
  {
   "cell_type": "code",
   "execution_count": null,
   "metadata": {
    "ExecuteTime": {
     "end_time": "2020-07-13T17:19:19.475948Z",
     "start_time": "2020-07-13T17:19:19.472519Z"
    }
   },
   "outputs": [],
   "source": [
    "final_list1 = np.asarray(final_list1)"
   ]
  },
  {
   "cell_type": "code",
   "execution_count": null,
   "metadata": {
    "ExecuteTime": {
     "end_time": "2020-07-13T17:19:43.797555Z",
     "start_time": "2020-07-13T17:19:43.792772Z"
    }
   },
   "outputs": [],
   "source": [
    "l1 = []\n",
    "i=0\n",
    "for x in final_list1:\n",
    "    y = np.argmin(x)\n",
    "    l1.append(trainset_labels_array1[y])\n",
    "    i+=1"
   ]
  },
  {
   "cell_type": "code",
   "execution_count": null,
   "metadata": {
    "ExecuteTime": {
     "end_time": "2020-07-13T17:19:52.126165Z",
     "start_time": "2020-07-13T17:19:52.119443Z"
    }
   },
   "outputs": [],
   "source": [
    "l1 = np.asarray(l1)\n",
    "l1.shape"
   ]
  },
  {
   "cell_type": "code",
   "execution_count": null,
   "metadata": {
    "ExecuteTime": {
     "end_time": "2020-07-13T17:19:53.853338Z",
     "start_time": "2020-07-13T17:19:53.849256Z"
    }
   },
   "outputs": [],
   "source": [
    "l2 = []\n",
    "j = 0\n",
    "for j in range(0,512):\n",
    "    l2.append(testset_labels_array1[j])\n",
    "l2= np.asarray(l2)\n",
    "l2.shape"
   ]
  },
  {
   "cell_type": "code",
   "execution_count": null,
   "metadata": {
    "ExecuteTime": {
     "end_time": "2020-07-13T17:19:54.517457Z",
     "start_time": "2020-07-13T17:19:54.513693Z"
    }
   },
   "outputs": [],
   "source": [
    "j = 0\n",
    "for x in range(0,512):\n",
    "    if l1[x] == l2[x]:\n",
    "        j += 1\n",
    "j"
   ]
  },
  {
   "cell_type": "code",
   "execution_count": null,
   "metadata": {},
   "outputs": [],
   "source": []
  }
 ],
 "metadata": {
  "kernelspec": {
   "display_name": "Python 3.8.2 64-bit ('pytorch': conda)",
   "language": "python",
   "name": "python38264bitpytorchcondad7e1e64ddac347218fdf6376779b007e"
  },
  "language_info": {
   "codemirror_mode": {
    "name": "ipython",
    "version": 3
   },
   "file_extension": ".py",
   "mimetype": "text/x-python",
   "name": "python",
   "nbconvert_exporter": "python",
   "pygments_lexer": "ipython3",
   "version": "3.8.2"
  }
 },
 "nbformat": 4,
 "nbformat_minor": 4
}
