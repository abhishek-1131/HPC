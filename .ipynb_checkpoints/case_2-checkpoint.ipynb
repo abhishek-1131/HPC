{
 "cells": [
  {
   "cell_type": "code",
   "execution_count": 1,
   "metadata": {
    "ExecuteTime": {
     "end_time": "2020-08-02T17:27:21.400095Z",
     "start_time": "2020-08-02T17:26:54.778614Z"
    }
   },
   "outputs": [],
   "source": [
    "import numpy as np\n",
    "import torch\n",
    "import torchvision\n",
    "from torchvision import datasets, transforms\n",
    "import multiprocessing\n",
    "from joblib import Parallel, delayed\n",
    "from datetime import datetime\n",
    "import tempfile\n",
    "import os\n",
    "from joblib import load, dump\n",
    "import shutil\n",
    "\n",
    "transform = transforms.Compose([transforms.ToTensor(),transforms.Normalize((0.5,), (0.5,)),])\n",
    "trainset = datasets.MNIST('./data', download=True, train=True, transform=transform)\n",
    "testset = datasets.MNIST('./data', download=True, train=False, transform=transform)\n",
    "trainloader = torch.utils.data.DataLoader(trainset, batch_size = len(trainset))\n",
    "testloader = torch.utils.data.DataLoader(testset, batch_size = len(testset))\n",
    "trainset_array1 = next(iter(trainloader))[0].numpy()\n",
    "testset_array1 = next(iter(testloader))[0].numpy()\n",
    "\n",
    "trainset_labels_array1 = next(iter(trainloader))[1].numpy()\n",
    "testset_labels_array1 = next(iter(testloader))[1].numpy()\n",
    "\n",
    "trainset_array = trainset_array1.reshape(60000,784)\n",
    "testset_array = testset_array1.reshape(10000,784)\n"
   ]
  },
  {
   "cell_type": "code",
   "execution_count": 2,
   "metadata": {
    "ExecuteTime": {
     "end_time": "2020-08-02T17:27:21.404825Z",
     "start_time": "2020-08-02T17:27:21.402025Z"
    }
   },
   "outputs": [],
   "source": [
    "import operator\n",
    "from functools import reduce"
   ]
  },
  {
   "cell_type": "code",
   "execution_count": 3,
   "metadata": {
    "ExecuteTime": {
     "end_time": "2020-08-02T17:03:17.556280Z",
     "start_time": "2020-08-02T17:03:17.523186Z"
    }
   },
   "outputs": [
    {
     "name": "stdout",
     "output_type": "stream",
     "text": [
      "Time(test_memmap):  0:00:00.023589\n"
     ]
    }
   ],
   "source": [
    "start = datetime.now()\n",
    "\n",
    "temp_folder_test = tempfile.mkdtemp()\n",
    "filename_test = os.path.join(temp_folder_test, 'test.mmap')\n",
    "if os.path.exists(filename_test): os.unlink(filename_test)\n",
    "_ = dump(testset_array, filename_test)\n",
    "test_memmap = load(filename_test, mmap_mode='r+')\n",
    "\n",
    "end = datetime.now()\n",
    "time_taken = end - start\n",
    "print('Time(test_memmap): ',time_taken)\n",
    "\n",
    "#########################################\n",
    "\n",
    "# start = datetime.now()\n",
    "\n",
    "# temp_folder_train = tempfile.mkdtemp()\n",
    "# filename_train = os.path.join(temp_folder_train, 'train.mmap')\n",
    "# if os.path.exists(filename_train): os.unlink(filename_train)\n",
    "# _ = dump(trainset_array, filename_train)\n",
    "# train_memmap = load(filename_train, mmap_mode='r+')\n",
    "\n",
    "# end = datetime.now()\n",
    "# time_taken = end - start\n",
    "# print('Time(train_memmap): ',time_taken)"
   ]
  },
  {
   "cell_type": "code",
   "execution_count": null,
   "metadata": {
    "ExecuteTime": {
     "end_time": "2020-07-27T06:27:10.684705Z",
     "start_time": "2020-07-27T06:27:10.660241Z"
    }
   },
   "outputs": [],
   "source": [
    "del testset_array\n",
    "# del trainset_array\n",
    "import gc\n",
    "_ = gc.collect()\n",
    "\n",
    "test_memmap_small = test_memmap[:512]\n",
    "# train_memmap_small = train_memmap[:512]\n",
    "\n",
    "test_memmap_final = np.asarray(test_memmap_small)\n",
    "# train_memmap_final = np.asarray(train_memmap_small)"
   ]
  },
  {
   "cell_type": "code",
   "execution_count": 3,
   "metadata": {
    "ExecuteTime": {
     "end_time": "2020-08-02T17:27:21.415297Z",
     "start_time": "2020-08-02T17:27:21.407073Z"
    }
   },
   "outputs": [],
   "source": [
    "testset_array2 = testset_array[:512]\n",
    "trainset_array2 = trainset_array[:512]"
   ]
  },
  {
   "cell_type": "code",
   "execution_count": 4,
   "metadata": {
    "ExecuteTime": {
     "end_time": "2020-08-02T17:27:21.423402Z",
     "start_time": "2020-08-02T17:27:21.417195Z"
    }
   },
   "outputs": [],
   "source": [
    "def case2(a):\n",
    "#     start = datetime.now()\n",
    "    list1 = []\n",
    "    for y in trainset_array2:\n",
    "        val = sum((a-y)**2)\n",
    "        list1.append(val)\n",
    "    return trainset_labels_array1[list1.index(min(list1))]         \n",
    "#     return trainset_labels_array1[np.argmin(list1)] \n",
    "#     end = datetime.now()"
   ]
  },
  {
   "cell_type": "markdown",
   "metadata": {},
   "source": [
    "### Non-parallel"
   ]
  },
  {
   "cell_type": "code",
   "execution_count": null,
   "metadata": {
    "ExecuteTime": {
     "end_time": "2020-07-27T05:29:23.434779Z",
     "start_time": "2020-07-27T05:29:23.432726Z"
    }
   },
   "outputs": [],
   "source": [
    "list_nonp = []\n",
    "time_nonp = []"
   ]
  },
  {
   "cell_type": "code",
   "execution_count": null,
   "metadata": {
    "ExecuteTime": {
     "end_time": "2020-07-27T05:29:24.081911Z",
     "start_time": "2020-07-27T05:29:24.079234Z"
    }
   },
   "outputs": [],
   "source": [
    "################\n",
    "# non-parallel #\n",
    "################\n",
    "\n",
    "def nonp(testset):\n",
    "    start = datetime.now()\n",
    "    list01 = []\n",
    "    for x in testset:\n",
    "        list01.append(case2(x))\n",
    "    end = datetime.now()\n",
    "    time_taken = end - start\n",
    "    list_nonp.append(list01)\n",
    "    time_nonp.append(time_taken)"
   ]
  },
  {
   "cell_type": "code",
   "execution_count": null,
   "metadata": {
    "ExecuteTime": {
     "end_time": "2020-07-27T05:29:24.620483Z",
     "start_time": "2020-07-27T05:29:24.615462Z"
    }
   },
   "outputs": [],
   "source": [
    "def serial_testset_split(x):\n",
    "    testset_new = np.split(testset_array2,x)\n",
    "    for x in testset_new:\n",
    "        nonp(x)"
   ]
  },
  {
   "cell_type": "code",
   "execution_count": null,
   "metadata": {
    "ExecuteTime": {
     "end_time": "2020-07-27T05:55:58.857916Z",
     "start_time": "2020-07-27T05:55:19.863565Z"
    }
   },
   "outputs": [],
   "source": [
    "list_nonp = []\n",
    "time_nonp = []\n",
    "serial_testset_split(256)\n",
    "list_nonp = np.asarray(list_nonp)\n",
    "print(list_nonp.shape)\n",
    "print(reduce(operator.add, time_nonp))"
   ]
  },
  {
   "cell_type": "code",
   "execution_count": null,
   "metadata": {
    "ExecuteTime": {
     "end_time": "2020-07-27T05:55:58.863183Z",
     "start_time": "2020-07-27T05:55:58.859102Z"
    }
   },
   "outputs": [],
   "source": [
    "list_nonp"
   ]
  },
  {
   "cell_type": "markdown",
   "metadata": {
    "ExecuteTime": {
     "end_time": "2020-07-27T05:11:42.766478Z",
     "start_time": "2020-07-27T05:11:42.756908Z"
    }
   },
   "source": [
    "#### Without split"
   ]
  },
  {
   "cell_type": "code",
   "execution_count": 5,
   "metadata": {
    "ExecuteTime": {
     "end_time": "2020-07-27T06:30:28.291694Z",
     "start_time": "2020-07-27T06:29:49.664172Z"
    }
   },
   "outputs": [
    {
     "name": "stdout",
     "output_type": "stream",
     "text": [
      "0:00:38.622740\n"
     ]
    }
   ],
   "source": [
    "start1 = datetime.now()\n",
    "l1 = []\n",
    "for x in testset_array2:\n",
    "    l1.append(case2(x))\n",
    "end1 = datetime.now()\n",
    "timetaken = end1-start1\n",
    "print(timetaken)"
   ]
  },
  {
   "cell_type": "code",
   "execution_count": null,
   "metadata": {
    "ExecuteTime": {
     "end_time": "2020-07-27T05:36:57.218979Z",
     "start_time": "2020-07-27T05:36:57.216068Z"
    }
   },
   "outputs": [],
   "source": [
    "l1 = np.asarray(l1)\n",
    "l1.shape"
   ]
  },
  {
   "cell_type": "code",
   "execution_count": null,
   "metadata": {
    "ExecuteTime": {
     "end_time": "2020-07-27T05:24:08.982057Z",
     "start_time": "2020-07-27T05:24:08.979880Z"
    }
   },
   "outputs": [],
   "source": [
    "# l1"
   ]
  },
  {
   "cell_type": "markdown",
   "metadata": {},
   "source": [
    "## Parallel"
   ]
  },
  {
   "cell_type": "markdown",
   "metadata": {},
   "source": [
    "### with internal argmin"
   ]
  },
  {
   "cell_type": "code",
   "execution_count": 16,
   "metadata": {
    "ExecuteTime": {
     "end_time": "2020-08-02T17:41:01.038056Z",
     "start_time": "2020-08-02T17:40:27.164006Z"
    }
   },
   "outputs": [
    {
     "name": "stdout",
     "output_type": "stream",
     "text": [
      "Time:  0:00:33.866804\n",
      "(512,)\n"
     ]
    }
   ],
   "source": [
    "start1 = datetime.now()\n",
    "\n",
    "final_list_A = Parallel(n_jobs=2,backend='multiprocessing',batch_size=256)(delayed(case2)(x) for x in testset_array2)\n",
    "\n",
    "end1 = datetime.now()\n",
    "time_taken = end1 - start1\n",
    "print('Time: ',time_taken) \n",
    "final_list_A = np.asarray(final_list_A)\n",
    "print(final_list_A.shape)"
   ]
  },
  {
   "cell_type": "code",
   "execution_count": 17,
   "metadata": {
    "ExecuteTime": {
     "end_time": "2020-08-02T17:41:01.042711Z",
     "start_time": "2020-08-02T17:41:01.040162Z"
    }
   },
   "outputs": [],
   "source": [
    "# try:\n",
    "#     shutil.rmtree(temp_folder_test)\n",
    "# #     shutil.rmtree(temp_folder_train)\n",
    "# except OSError:\n",
    "#     pass"
   ]
  },
  {
   "cell_type": "code",
   "execution_count": 1,
   "metadata": {
    "ExecuteTime": {
     "end_time": "2020-08-02T17:54:07.279476Z",
     "start_time": "2020-08-02T17:54:07.180853Z"
    }
   },
   "outputs": [
    {
     "ename": "NameError",
     "evalue": "name 'final_list_A' is not defined",
     "output_type": "error",
     "traceback": [
      "\u001b[0;31m---------------------------------------------------------------------------\u001b[0m",
      "\u001b[0;31mNameError\u001b[0m                                 Traceback (most recent call last)",
      "\u001b[0;32m<ipython-input-1-e8288d488ec5>\u001b[0m in \u001b[0;36m<module>\u001b[0;34m\u001b[0m\n\u001b[0;32m----> 1\u001b[0;31m \u001b[0mfinal_list_A\u001b[0m\u001b[0;34m\u001b[0m\u001b[0;34m\u001b[0m\u001b[0m\n\u001b[0m",
      "\u001b[0;31mNameError\u001b[0m: name 'final_list_A' is not defined"
     ]
    }
   ],
   "source": [
    "final_list_A"
   ]
  },
  {
   "cell_type": "code",
   "execution_count": null,
   "metadata": {
    "ExecuteTime": {
     "end_time": "2020-07-17T08:36:53.146022Z",
     "start_time": "2020-07-17T08:36:53.137812Z"
    }
   },
   "outputs": [],
   "source": [
    "time1 = []\n",
    "for x in final_list_A:\n",
    "    time1.append(x[1])\n",
    "time1"
   ]
  },
  {
   "cell_type": "code",
   "execution_count": null,
   "metadata": {
    "ExecuteTime": {
     "end_time": "2020-07-17T08:36:55.405645Z",
     "start_time": "2020-07-17T08:36:55.403116Z"
    }
   },
   "outputs": [],
   "source": [
    "tl1= []\n",
    "for x in time1:\n",
    "    tl1.append(x.microseconds)"
   ]
  },
  {
   "cell_type": "code",
   "execution_count": null,
   "metadata": {
    "ExecuteTime": {
     "end_time": "2020-07-17T08:36:56.803372Z",
     "start_time": "2020-07-17T08:36:56.767117Z"
    }
   },
   "outputs": [],
   "source": [
    "tl1"
   ]
  },
  {
   "cell_type": "code",
   "execution_count": null,
   "metadata": {
    "ExecuteTime": {
     "end_time": "2020-07-17T08:36:57.334580Z",
     "start_time": "2020-07-17T08:36:57.327640Z"
    }
   },
   "outputs": [],
   "source": [
    "sum(tl1)/1000000"
   ]
  },
  {
   "cell_type": "markdown",
   "metadata": {},
   "source": [
    "### with external argmin"
   ]
  },
  {
   "cell_type": "code",
   "execution_count": null,
   "metadata": {
    "ExecuteTime": {
     "end_time": "2020-07-21T07:09:42.746091Z",
     "start_time": "2020-07-21T07:09:42.743301Z"
    }
   },
   "outputs": [],
   "source": [
    "def case2B(a):\n",
    "    list1 = []\n",
    "    for y in train_memmap_final:\n",
    "        val = sum((a-y)**2)\n",
    "        list1.append(val)\n",
    "    return list1"
   ]
  },
  {
   "cell_type": "code",
   "execution_count": null,
   "metadata": {
    "ExecuteTime": {
     "end_time": "2020-07-21T07:10:18.968194Z",
     "start_time": "2020-07-21T07:10:05.640825Z"
    }
   },
   "outputs": [],
   "source": [
    "start = datetime.now()\n",
    "\n",
    "final_list = Parallel(n_jobs=8,backend='multiprocessing',batch_size=64,max_nbytes=None)(delayed(case2B)(x) for x in test_memmap_final)\n",
    "final_list_B = []\n",
    "i=0\n",
    "for x in final_list:\n",
    "    y = np.argmin(x)\n",
    "    final_list_B.append(trainset_labels_array1[y])\n",
    "    i+=1\n",
    "end = datetime.now()\n",
    "time_taken = end - start\n",
    "print('Time: ',time_taken) \n",
    "final_list_B = np.asarray(final_list_B)\n",
    "print(final_list_B.shape)"
   ]
  },
  {
   "cell_type": "code",
   "execution_count": null,
   "metadata": {
    "ExecuteTime": {
     "end_time": "2020-07-21T07:10:18.973431Z",
     "start_time": "2020-07-21T07:10:18.969889Z"
    }
   },
   "outputs": [],
   "source": [
    "final_list_B"
   ]
  },
  {
   "cell_type": "code",
   "execution_count": null,
   "metadata": {
    "ExecuteTime": {
     "end_time": "2020-07-23T07:42:59.744320Z",
     "start_time": "2020-07-23T07:42:59.738694Z"
    }
   },
   "outputs": [],
   "source": [
    "testset_array3 = testset_array2[:256]\n",
    "testset_array4 = testset_array2[256:512]\n",
    "print(testset_array3.shape)\n",
    "print(testset_array4.shape)"
   ]
  },
  {
   "cell_type": "markdown",
   "metadata": {},
   "source": [
    "## Accuracy:"
   ]
  },
  {
   "cell_type": "code",
   "execution_count": null,
   "metadata": {
    "ExecuteTime": {
     "end_time": "2020-07-15T05:25:46.298730Z",
     "start_time": "2020-07-15T05:25:46.296447Z"
    }
   },
   "outputs": [],
   "source": [
    "testset_labels_array1 = testset_labels_array1[:512]"
   ]
  },
  {
   "cell_type": "code",
   "execution_count": null,
   "metadata": {
    "ExecuteTime": {
     "end_time": "2020-07-15T05:25:46.488562Z",
     "start_time": "2020-07-15T05:25:46.477301Z"
    }
   },
   "outputs": [],
   "source": [
    "j = 0\n",
    "for x in range(0,512):\n",
    "    if final_list[x] == testset_labels_array1[x]:\n",
    "        j += 1\n",
    "j"
   ]
  },
  {
   "cell_type": "code",
   "execution_count": null,
   "metadata": {
    "ExecuteTime": {
     "end_time": "2020-07-15T05:25:47.094045Z",
     "start_time": "2020-07-15T05:25:47.087739Z"
    }
   },
   "outputs": [],
   "source": [
    "403/512"
   ]
  },
  {
   "cell_type": "code",
   "execution_count": null,
   "metadata": {
    "ExecuteTime": {
     "end_time": "2020-07-15T05:26:31.471871Z",
     "start_time": "2020-07-15T05:26:31.465484Z"
    }
   },
   "outputs": [],
   "source": [
    "print(final_list[0])\n",
    "print(testset_labels_array1[0])"
   ]
  },
  {
   "cell_type": "code",
   "execution_count": null,
   "metadata": {},
   "outputs": [],
   "source": []
  },
  {
   "cell_type": "code",
   "execution_count": null,
   "metadata": {
    "ExecuteTime": {
     "end_time": "2020-07-17T08:40:06.978476Z",
     "start_time": "2020-07-17T08:40:06.976027Z"
    }
   },
   "outputs": [],
   "source": [
    "testimg = []\n",
    "for i in range(1,513):\n",
    "    testimg.append(i)\n",
    "    "
   ]
  },
  {
   "cell_type": "code",
   "execution_count": null,
   "metadata": {
    "ExecuteTime": {
     "end_time": "2020-07-17T08:41:23.736701Z",
     "start_time": "2020-07-17T08:41:23.734619Z"
    }
   },
   "outputs": [],
   "source": [
    "import matplotlib.pyplot as plt"
   ]
  },
  {
   "cell_type": "code",
   "execution_count": null,
   "metadata": {
    "ExecuteTime": {
     "end_time": "2020-07-17T08:42:53.398685Z",
     "start_time": "2020-07-17T08:42:52.803924Z"
    }
   },
   "outputs": [],
   "source": [
    "fig = plt.figure()\n",
    "ax = fig.add_axes([0,0,1,1])\n",
    "x = testimg\n",
    "y = tl1\n",
    "ax.bar(x,y)\n",
    "plt.show()"
   ]
  },
  {
   "cell_type": "code",
   "execution_count": null,
   "metadata": {},
   "outputs": [],
   "source": []
  }
 ],
 "metadata": {
  "kernelspec": {
   "display_name": "Python 3",
   "language": "python",
   "name": "python3"
  },
  "language_info": {
   "codemirror_mode": {
    "name": "ipython",
    "version": 3
   },
   "file_extension": ".py",
   "mimetype": "text/x-python",
   "name": "python",
   "nbconvert_exporter": "python",
   "pygments_lexer": "ipython3",
   "version": "3.8.2"
  }
 },
 "nbformat": 4,
 "nbformat_minor": 4
}
